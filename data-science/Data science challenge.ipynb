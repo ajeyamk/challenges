{
 "cells": [
  {
   "cell_type": "markdown",
   "metadata": {},
   "source": [
    "# Tagup data science challenge\n",
    "\n",
    "ExampleCo, Inc has a problem: maintenance on their widgets is expensive. They have contracted with Tagup to help them implement predictive maintenance. They want us to provide a model that will allow them to prioritize maintenance for those units most likely to fail, and in particular to gain some warning---even just a few hours!---before a unit does fail.\n",
    "\n",
    "They collect two kinds of data for each unit. First, they have a remote monitoring system for the motors in each unit, which collects information about the motor (rotation speed, voltage, current) as well as two temperature probes (one on the motor and one at the inlet). Unfortunately, this system is antiquated and prone to communication errors, which manifest as nonsense measurements. Second, they have a rule-based alarming system, which can emit either warnings or errors; the system is known to be noisy, but it's the best they've got. \n",
    "\n",
    "They have given us just over 100MB of historical remote monitoring data from twenty of their units that failed in the field. The shortest-lived units failed after a few days; the longest-lived units failed after several years. Typical lifetimes are on the order of a year. This data is available in .csv files under `data/train` in this repository. In addition, they have provided us with operating data from their thirty active units for the past month; this data is available under `data/test` in this repository.\n",
    "\n",
    "You have two main objectives. First, **tell us as much as you can about the process that generated the data**. Does it show meaningful clustering? Do the observations appear independent? How accurately can we forecast future observations, and how long a window do we need to make an accurate forecast? Feel free to propose multiple models, but be sure to discuss the ways each is useful and the ways each is not useful. Second, **predict which of the thirty active units are most likely to fail**. The data from these units are in `data/test`. Be sure to quantify these predictions, and especially your certainty.\n",
    "\n",
    "A few notes to help:\n",
    "1. A good place to start is by addressing the noise due to comm errors. \n",
    "2. There is a signal in the data that you can identify and exploit to predict failure. Each machine failed immediately after the last recorded timestamp in the remote monitoring timeseries data.\n",
    "3. If you can't find the signal in the noise, don't despair! We're much more interested in what you try and how you try it than in how successful you are at helping a fictional company with their fictional problems.\n",
    "4. Feel free to use any libraries you like, or even other programming languages. Your final results should be presented in this notebook, however.\n",
    "5. There are no constraints on the models or algorithms you can bring to bear. Some ideas include: unsupervised clustering algorithms such as k-means; hidden Markov models; forecasting models like ARMA; neural networks; survival models built using features extracted from the data; etc.\n",
    "6. Don't feel compelled to use all the data if you're not sure how. Feel free to focus on data from a single unit if that makes it easier to get started.\n",
    "7. Be sure to clearly articulate what you did, why you did it, and how the results should be interpreted. In particular you should be aware of the limitations of whatever approach or approaches you take.\n",
    "8. Don't hesitate to reach out with any questions."
   ]
  },
  {
   "cell_type": "code",
   "execution_count": 427,
   "metadata": {},
   "outputs": [
    {
     "name": "stdout",
     "output_type": "stream",
     "text": [
      "Requirement already satisfied: lifelines in /Users/ajeyakempegowda/.virtualenvs/tagup/lib/python3.6/site-packages (0.22.1)\n",
      "Requirement already satisfied: autograd>=1.2 in /Users/ajeyakempegowda/.virtualenvs/tagup/lib/python3.6/site-packages (from lifelines) (1.2)\n",
      "Requirement already satisfied: matplotlib>=3.0 in /Users/ajeyakempegowda/.virtualenvs/tagup/lib/python3.6/site-packages (from lifelines) (3.1.1)\n",
      "Requirement already satisfied: autograd-gamma>=0.3 in /Users/ajeyakempegowda/.virtualenvs/tagup/lib/python3.6/site-packages (from lifelines) (0.3.0)\n",
      "Requirement already satisfied: scipy<=1.2.1,>=1.0 in /Users/ajeyakempegowda/.virtualenvs/tagup/lib/python3.6/site-packages (from lifelines) (1.2.1)\n",
      "Requirement already satisfied: numpy>=1.6.0 in /Users/ajeyakempegowda/.virtualenvs/tagup/lib/python3.6/site-packages (from lifelines) (1.16.4)\n",
      "Requirement already satisfied: bottleneck>=1.0 in /Users/ajeyakempegowda/.virtualenvs/tagup/lib/python3.6/site-packages (from lifelines) (1.2.1)\n",
      "Requirement already satisfied: pandas>=0.23.0 in /Users/ajeyakempegowda/.virtualenvs/tagup/lib/python3.6/site-packages (from lifelines) (0.24.2)\n",
      "Requirement already satisfied: future>=0.15.2 in /Users/ajeyakempegowda/.virtualenvs/tagup/lib/python3.6/site-packages (from autograd>=1.2->lifelines) (0.17.1)\n",
      "Requirement already satisfied: kiwisolver>=1.0.1 in /Users/ajeyakempegowda/.virtualenvs/tagup/lib/python3.6/site-packages (from matplotlib>=3.0->lifelines) (1.1.0)\n",
      "Requirement already satisfied: python-dateutil>=2.1 in /Users/ajeyakempegowda/.virtualenvs/tagup/lib/python3.6/site-packages (from matplotlib>=3.0->lifelines) (2.8.0)\n",
      "Requirement already satisfied: pyparsing!=2.0.4,!=2.1.2,!=2.1.6,>=2.0.1 in /Users/ajeyakempegowda/.virtualenvs/tagup/lib/python3.6/site-packages (from matplotlib>=3.0->lifelines) (2.4.0)\n",
      "Requirement already satisfied: cycler>=0.10 in /Users/ajeyakempegowda/.virtualenvs/tagup/lib/python3.6/site-packages (from matplotlib>=3.0->lifelines) (0.10.0)\n",
      "Requirement already satisfied: pytz>=2011k in /Users/ajeyakempegowda/.virtualenvs/tagup/lib/python3.6/site-packages (from pandas>=0.23.0->lifelines) (2019.1)\n",
      "Requirement already satisfied: setuptools in /Users/ajeyakempegowda/.virtualenvs/tagup/lib/python3.6/site-packages (from kiwisolver>=1.0.1->matplotlib>=3.0->lifelines) (41.0.1)\n",
      "Requirement already satisfied: six>=1.5 in /Users/ajeyakempegowda/.virtualenvs/tagup/lib/python3.6/site-packages (from python-dateutil>=2.1->matplotlib>=3.0->lifelines) (1.12.0)\n"
     ]
    }
   ],
   "source": [
    "#!pip3 install statsmodels\n",
    "#!pip3 install ipdb\n",
    "#!pip3 install seaborn\n",
    "#!pip3 install rpy2\n",
    "!pip3 install lifelines"
   ]
  },
  {
   "cell_type": "code",
   "execution_count": 424,
   "metadata": {},
   "outputs": [
    {
     "data": {
      "text/html": [
       "<div>\n",
       "<style scoped>\n",
       "    .dataframe tbody tr th:only-of-type {\n",
       "        vertical-align: middle;\n",
       "    }\n",
       "\n",
       "    .dataframe tbody tr th {\n",
       "        vertical-align: top;\n",
       "    }\n",
       "\n",
       "    .dataframe thead th {\n",
       "        text-align: right;\n",
       "    }\n",
       "</style>\n",
       "<table border=\"1\" class=\"dataframe\">\n",
       "  <thead>\n",
       "    <tr style=\"text-align: right;\">\n",
       "      <th></th>\n",
       "      <th>rpm</th>\n",
       "      <th>motor_voltage</th>\n",
       "      <th>motor_current</th>\n",
       "      <th>motor_temp</th>\n",
       "      <th>inlet_temp</th>\n",
       "    </tr>\n",
       "  </thead>\n",
       "  <tbody>\n",
       "    <tr>\n",
       "      <th>count</th>\n",
       "      <td>9.171500e+04</td>\n",
       "      <td>9.171500e+04</td>\n",
       "      <td>9.171500e+04</td>\n",
       "      <td>9.171500e+04</td>\n",
       "      <td>9.171500e+04</td>\n",
       "    </tr>\n",
       "    <tr>\n",
       "      <th>mean</th>\n",
       "      <td>-8.111152e+46</td>\n",
       "      <td>-4.431337e+60</td>\n",
       "      <td>-1.387827e+56</td>\n",
       "      <td>-6.640742e+69</td>\n",
       "      <td>-1.937422e+48</td>\n",
       "    </tr>\n",
       "    <tr>\n",
       "      <th>std</th>\n",
       "      <td>2.456380e+49</td>\n",
       "      <td>1.903274e+63</td>\n",
       "      <td>4.202968e+58</td>\n",
       "      <td>2.011115e+72</td>\n",
       "      <td>5.867349e+50</td>\n",
       "    </tr>\n",
       "    <tr>\n",
       "      <th>min</th>\n",
       "      <td>-7.439020e+51</td>\n",
       "      <td>-5.565298e+65</td>\n",
       "      <td>-1.272847e+61</td>\n",
       "      <td>-6.090557e+74</td>\n",
       "      <td>-1.776896e+53</td>\n",
       "    </tr>\n",
       "    <tr>\n",
       "      <th>25%</th>\n",
       "      <td>1.017725e+03</td>\n",
       "      <td>2.311319e+02</td>\n",
       "      <td>3.239347e+01</td>\n",
       "      <td>1.179731e+02</td>\n",
       "      <td>6.489677e+01</td>\n",
       "    </tr>\n",
       "    <tr>\n",
       "      <th>50%</th>\n",
       "      <td>1.066347e+03</td>\n",
       "      <td>2.667104e+02</td>\n",
       "      <td>3.944687e+01</td>\n",
       "      <td>1.564521e+02</td>\n",
       "      <td>7.799157e+01</td>\n",
       "    </tr>\n",
       "    <tr>\n",
       "      <th>75%</th>\n",
       "      <td>1.106721e+03</td>\n",
       "      <td>2.993994e+02</td>\n",
       "      <td>4.607173e+01</td>\n",
       "      <td>1.978223e+02</td>\n",
       "      <td>9.086132e+01</td>\n",
       "    </tr>\n",
       "    <tr>\n",
       "      <th>max</th>\n",
       "      <td>7.978110e+44</td>\n",
       "      <td>1.500194e+65</td>\n",
       "      <td>1.555360e+55</td>\n",
       "      <td>3.117856e+55</td>\n",
       "      <td>1.710299e+40</td>\n",
       "    </tr>\n",
       "  </tbody>\n",
       "</table>\n",
       "</div>"
      ],
      "text/plain": [
       "                rpm  motor_voltage  motor_current    motor_temp    inlet_temp\n",
       "count  9.171500e+04   9.171500e+04   9.171500e+04  9.171500e+04  9.171500e+04\n",
       "mean  -8.111152e+46  -4.431337e+60  -1.387827e+56 -6.640742e+69 -1.937422e+48\n",
       "std    2.456380e+49   1.903274e+63   4.202968e+58  2.011115e+72  5.867349e+50\n",
       "min   -7.439020e+51  -5.565298e+65  -1.272847e+61 -6.090557e+74 -1.776896e+53\n",
       "25%    1.017725e+03   2.311319e+02   3.239347e+01  1.179731e+02  6.489677e+01\n",
       "50%    1.066347e+03   2.667104e+02   3.944687e+01  1.564521e+02  7.799157e+01\n",
       "75%    1.106721e+03   2.993994e+02   4.607173e+01  1.978223e+02  9.086132e+01\n",
       "max    7.978110e+44   1.500194e+65   1.555360e+55  3.117856e+55  1.710299e+40"
      ]
     },
     "metadata": {},
     "output_type": "display_data"
    },
    {
     "data": {
      "text/html": [
       "<div>\n",
       "<style scoped>\n",
       "    .dataframe tbody tr th:only-of-type {\n",
       "        vertical-align: middle;\n",
       "    }\n",
       "\n",
       "    .dataframe tbody tr th {\n",
       "        vertical-align: top;\n",
       "    }\n",
       "\n",
       "    .dataframe thead th {\n",
       "        text-align: right;\n",
       "    }\n",
       "</style>\n",
       "<table border=\"1\" class=\"dataframe\">\n",
       "  <thead>\n",
       "    <tr style=\"text-align: right;\">\n",
       "      <th></th>\n",
       "      <th>message</th>\n",
       "    </tr>\n",
       "  </thead>\n",
       "  <tbody>\n",
       "    <tr>\n",
       "      <th>count</th>\n",
       "      <td>305</td>\n",
       "    </tr>\n",
       "    <tr>\n",
       "      <th>unique</th>\n",
       "      <td>2</td>\n",
       "    </tr>\n",
       "    <tr>\n",
       "      <th>top</th>\n",
       "      <td>warning</td>\n",
       "    </tr>\n",
       "    <tr>\n",
       "      <th>freq</th>\n",
       "      <td>304</td>\n",
       "    </tr>\n",
       "  </tbody>\n",
       "</table>\n",
       "</div>"
      ],
      "text/plain": [
       "        message\n",
       "count       305\n",
       "unique        2\n",
       "top     warning\n",
       "freq        304"
      ]
     },
     "metadata": {},
     "output_type": "display_data"
    },
    {
     "data": {
      "image/png": "[encoded data removed]",
      "text/plain": [
       "<Figure size 432x288 with 1 Axes>"
      ]
     },
     "metadata": {
      "needs_background": "light"
     },
     "output_type": "display_data"
    },
    {
     "data": {
      "image/png": "[encoded data removed]",
      "text/plain": [
       "<Figure size 432x288 with 1 Axes>"
      ]
     },
     "metadata": {
      "needs_background": "light"
     },
     "output_type": "display_data"
    }
   ],
   "source": [
    "# To help you get started...\n",
    "from IPython.display import display\n",
    "import pandas as pd\n",
    "import matplotlib.pyplot as plt\n",
    "\n",
    "import lifelines as ll\n",
    "%matplotlib inline \n",
    "\n",
    "def load_rms(filename):\n",
    "    return pd.read_csv(filename, index_col=\"timestamp\")\n",
    "    \n",
    "def load_alarms(filename):\n",
    "    return pd.read_csv(filename, header=None, names=[\"timestamp\", \"message\"], index_col=\"timestamp\")\n",
    "\n",
    "rms = load_rms('data/train/unit0000_rms.csv')\n",
    "alarms = load_alarms('data/train/unit0000_alarms.csv')\n",
    "rms.loc[\"2005-08-01\":\"2005-09-01\"].plot(ylim=(-10, 1500))\n",
    "rms.loc[\"2005-08-01\":\"2005-08-02\"].plot(ylim=(-10, 1500))\n",
    "\n",
    "display(rms.describe())\n",
    "display(alarms.describe())"
   ]
  },
  {
   "cell_type": "markdown",
   "metadata": {},
   "source": [
    "## Data processing"
   ]
  },
  {
   "cell_type": "code",
   "execution_count": 286,
   "metadata": {},
   "outputs": [],
   "source": [
    "import plotly\n",
    "import plotly.plotly as py\n",
    "import plotly.graph_objs as go\n",
    "plotly.tools.set_credentials_file(username='kempegowda.a', api_key='cF870W5z9vOzGeP0O5iv')"
   ]
  },
  {
   "cell_type": "code",
   "execution_count": 310,
   "metadata": {},
   "outputs": [],
   "source": [
    "class RMS(object):\n",
    "    \n",
    "    def __init__(self, rms_path=None, alarm_path=None):\n",
    "        if rms_path is not None:\n",
    "            self.load_rms(rms_path)\n",
    "        if alarm_path is not None:\n",
    "            self.load_alarms(alarm_path)\n",
    "        \n",
    "    def load_rms(self, filename):\n",
    "        self.rms = pd.read_csv(filename, index_col=\"timestamp\")\n",
    "        self.rms_processed = pd.read_csv(filename, index_col=\"timestamp\")\n",
    "        self.rms_processed.reset_index(level=0, inplace=True)\n",
    "        self.rms_processed = self.rms_processed.dropna(axis=0)\n",
    "        \n",
    "    def assign_cleaned_df(self, df):\n",
    "        self.noise_free_rms = df\n",
    "    \n",
    "    def load_alarms(self, filename):\n",
    "        self.alarm = pd.read_csv(filename, header=None, names=[\"timestamp\", \"message\"], index_col=\"timestamp\")\n",
    "        self.alarm_processed = pd.read_csv(filename, header=None, names=[\"timestamp\", \"message\"], index_col=\"timestamp\")\n",
    "        self.alarm_processed.reset_index(level=0, inplace=True)\n",
    "        self.alarm_processed = self.alarm_processed.dropna(axis=0)\n",
    "\n",
    "    def plotly_rms_ts(self, df, title= None):\n",
    "        rpm = go.Scatter(\n",
    "            x=df.index,\n",
    "            y=df['rpm'],\n",
    "            name = \"RPM\",\n",
    "            line = dict(color = '#17BECF'),\n",
    "            opacity = 0.8)\n",
    "        motor_voltage = go.Scatter(\n",
    "            x=df.index,\n",
    "            y=df['motor_voltage'],\n",
    "            name = \"Motor Voltage\",\n",
    "            line = dict(color = '#7F7F7F'),\n",
    "            opacity = 0.8)\n",
    "        motor_current = go.Scatter(\n",
    "            x=df.index,\n",
    "            y=df['motor_current'],\n",
    "            name = \"Motor Current\",\n",
    "            line = dict(color = '#d62728'),\n",
    "            opacity = 0.8)\n",
    "        motor_temp = go.Scatter(\n",
    "            x=df.index,\n",
    "            y=df['motor_temp'],\n",
    "            name = \"Motor Temperature\",\n",
    "            line = dict(color = '#e377c2'),\n",
    "            opacity = 0.8)\n",
    "        inlet_temp = go.Scatter(\n",
    "            x=df.index,\n",
    "            y=df['inlet_temp'],\n",
    "            name = \"Inlet Temperature\",\n",
    "            line = dict(color = '#ff7f0e'),\n",
    "            opacity = 0.8)\n",
    "        motor_data = [rpm,motor_voltage, motor_current, motor_temp,inlet_temp]\n",
    "        layout = dict(\n",
    "            title=title,\n",
    "            xaxis=dict(\n",
    "                rangeselector=dict(\n",
    "                    buttons=list([\n",
    "                        dict(count=1,\n",
    "                             label='1m',\n",
    "                             step='month',\n",
    "                             stepmode='backward'),\n",
    "                        dict(count=12,\n",
    "                             label='30m',\n",
    "                             step='month',\n",
    "                             stepmode='backward'),\n",
    "                        dict(step='all')\n",
    "                    ])\n",
    "                ),\n",
    "                rangeslider=dict(\n",
    "                    visible = True\n",
    "                ),\n",
    "                type='date'\n",
    "            )\n",
    "        )\n",
    "        fig = dict(data=motor_data, layout=layout)\n",
    "        return py.iplot(fig, filename = title)"
   ]
  },
  {
   "cell_type": "code",
   "execution_count": 340,
   "metadata": {},
   "outputs": [],
   "source": [
    "class HelperFunction(object):\n",
    "\n",
    "    def remove_outliers(self, sensor, custom_range = [0.05, 0.95]):\n",
    "        self.df = sensor.loc[:, sensor.columns != 'Index']\n",
    "        self.quantile = self.df.quantile(custom_range)\n",
    "        return self.outlier_lambda(custom_range)\n",
    "    \n",
    "    def outlier_lambda(self, custom_range):\n",
    "        clean_df = self.df.apply(\n",
    "            lambda element: element[\n",
    "                (element > self.quantile.loc[custom_range[0],element.name]) & \n",
    "                (element < self.quantile.loc[custom_range[1],element.name])], \n",
    "            axis=0)\n",
    "        clean_df = clean_df.dropna(axis=0)\n",
    "        return clean_df\n",
    "    \n",
    "    def generate_file_paths(self, iter_range,is_train=True):\n",
    "        ds = 'train' if is_train else 'test' \n",
    "        paths_dict = {}\n",
    "        for i in range(iter_range[0],iter_range[1]): \n",
    "            paths_list=[]\n",
    "            key = 'sensor'+str(i)\n",
    "            unit_id = str(i).zfill(4)\n",
    "            gen_rms_file_path = 'data/'+ ds +'/unit' + unit_id  +'_rms.csv'\n",
    "            gen_alarm_file_path = 'data/'+ ds +'/unit'+ unit_id +'_alarms.csv'\n",
    "            paths_list.append(gen_rms_file_path)\n",
    "            paths_list.append(gen_alarm_file_path)\n",
    "            paths_dict[key] = paths_list\n",
    "        return paths_dict\n",
    "    \n",
    "    def create"
   ]
  },
  {
   "cell_type": "code",
   "execution_count": 377,
   "metadata": {},
   "outputs": [
    {
     "data": {
      "text/plain": [
       "{'sensor0': ['data/train/unit0000_rms.csv', 'data/train/unit0000_alarms.csv'],\n",
       " 'sensor1': ['data/train/unit0001_rms.csv', 'data/train/unit0001_alarms.csv'],\n",
       " 'sensor2': ['data/train/unit0002_rms.csv', 'data/train/unit0002_alarms.csv'],\n",
       " 'sensor3': ['data/train/unit0003_rms.csv', 'data/train/unit0003_alarms.csv'],\n",
       " 'sensor4': ['data/train/unit0004_rms.csv', 'data/train/unit0004_alarms.csv'],\n",
       " 'sensor5': ['data/train/unit0005_rms.csv', 'data/train/unit0005_alarms.csv'],\n",
       " 'sensor6': ['data/train/unit0006_rms.csv', 'data/train/unit0006_alarms.csv'],\n",
       " 'sensor7': ['data/train/unit0007_rms.csv', 'data/train/unit0007_alarms.csv'],\n",
       " 'sensor8': ['data/train/unit0008_rms.csv', 'data/train/unit0008_alarms.csv'],\n",
       " 'sensor9': ['data/train/unit0009_rms.csv', 'data/train/unit0009_alarms.csv'],\n",
       " 'sensor10': ['data/train/unit0010_rms.csv', 'data/train/unit0010_alarms.csv'],\n",
       " 'sensor11': ['data/train/unit0011_rms.csv', 'data/train/unit0011_alarms.csv'],\n",
       " 'sensor12': ['data/train/unit0012_rms.csv', 'data/train/unit0012_alarms.csv'],\n",
       " 'sensor13': ['data/train/unit0013_rms.csv', 'data/train/unit0013_alarms.csv'],\n",
       " 'sensor14': ['data/train/unit0014_rms.csv', 'data/train/unit0014_alarms.csv'],\n",
       " 'sensor15': ['data/train/unit0015_rms.csv', 'data/train/unit0015_alarms.csv'],\n",
       " 'sensor16': ['data/train/unit0016_rms.csv', 'data/train/unit0016_alarms.csv'],\n",
       " 'sensor17': ['data/train/unit0017_rms.csv', 'data/train/unit0017_alarms.csv'],\n",
       " 'sensor18': ['data/train/unit0018_rms.csv', 'data/train/unit0018_alarms.csv'],\n",
       " 'sensor19': ['data/train/unit0019_rms.csv', 'data/train/unit0019_alarms.csv']}"
      ]
     },
     "execution_count": 377,
     "metadata": {},
     "output_type": "execute_result"
    }
   ],
   "source": [
    "units = [0,20]\n",
    "helper = HelperFunction()\n",
    "file_paths = helper.generate_file_paths(units)\n",
    "file_paths"
   ]
  },
  {
   "cell_type": "code",
   "execution_count": 396,
   "metadata": {},
   "outputs": [],
   "source": [
    "sensors = []\n",
    "for each_sensor in range(units[0], units[1]):\n",
    "    sensor_var = 'sensor' + str(each_sensor) \n",
    "    sensor_obj = RMS(rms_path=file_paths.get(sensor_var)[0], alarm_path = file_paths.get(sensor_var)[1])\n",
    "    rms_cleaned_df = helper.remove_outliers(sensor_obj.rms)\n",
    "    sensor_obj.assign_cleaned_df(rms_cleaned_df)\n",
    "    sensor_obj.noise_free_rms_processed = sensor_obj.noise_free_rms\n",
    "    sensor_obj.noise_free_rms_processed.reset_index(level=0, inplace=True)\n",
    "    sensors.append(sensor_obj)\n",
    "    del sensor_obj"
   ]
  },
  {
   "cell_type": "code",
   "execution_count": 375,
   "metadata": {},
   "outputs": [
    {
     "data": {
      "text/html": [
       "<iframe id=\"igraph\" scrolling=\"no\" style=\"border:none;\" seamless=\"seamless\" src=\"https://plot.ly/~kempegowda.a/8.embed\" height=\"525px\" width=\"100%\"></iframe>"
      ],
      "text/plain": [
       "<chart_studio.tools.PlotlyDisplay object>"
      ]
     },
     "execution_count": 375,
     "metadata": {},
     "output_type": "execute_result"
    }
   ],
   "source": [
    "sensors[2].plotly_rms_ts(sensors[2].noise_free_rms_processed, title = \"Sensor2: Denoised\")"
   ]
  },
  {
   "cell_type": "code",
   "execution_count": 376,
   "metadata": {},
   "outputs": [
    {
     "name": "stdout",
     "output_type": "stream",
     "text": [
      "The draw time for this plot will be slow for clients without much RAM.\n"
     ]
    },
    {
     "data": {
      "text/html": [
       "<iframe id=\"igraph\" scrolling=\"no\" style=\"border:none;\" seamless=\"seamless\" src=\"https://plot.ly/~kempegowda.a/10.embed\" height=\"525px\" width=\"100%\"></iframe>"
      ],
      "text/plain": [
       "<chart_studio.tools.PlotlyDisplay object>"
      ]
     },
     "execution_count": 376,
     "metadata": {},
     "output_type": "execute_result"
    }
   ],
   "source": [
    "sensors[9].plotly_rms_ts(sensors[9].noise_free_rms_processed, title = \"Sensor9: Denoised\")"
   ]
  },
  {
   "cell_type": "code",
   "execution_count": 379,
   "metadata": {},
   "outputs": [
    {
     "name": "stdout",
     "output_type": "stream",
     "text": [
      "The draw time for this plot will be slow for all clients.\n"
     ]
    },
    {
     "data": {
      "text/html": [
       "<iframe id=\"igraph\" scrolling=\"no\" style=\"border:none;\" seamless=\"seamless\" src=\"https://plot.ly/~kempegowda.a/12.embed\" height=\"525px\" width=\"100%\"></iframe>"
      ],
      "text/plain": [
       "<chart_studio.tools.PlotlyDisplay object>"
      ]
     },
     "execution_count": 379,
     "metadata": {},
     "output_type": "execute_result"
    }
   ],
   "source": [
    "sensors[19].plotly_rms_ts(sensors[19].noise_free_rms_processed, title = \"Sensor19: Denoised\")"
   ]
  },
  {
   "cell_type": "code",
   "execution_count": 410,
   "metadata": {},
   "outputs": [
    {
     "data": {
      "text/html": [
       "<div>\n",
       "<style scoped>\n",
       "    .dataframe tbody tr th:only-of-type {\n",
       "        vertical-align: middle;\n",
       "    }\n",
       "\n",
       "    .dataframe tbody tr th {\n",
       "        vertical-align: top;\n",
       "    }\n",
       "\n",
       "    .dataframe thead th {\n",
       "        text-align: right;\n",
       "    }\n",
       "</style>\n",
       "<table border=\"1\" class=\"dataframe\">\n",
       "  <thead>\n",
       "    <tr style=\"text-align: right;\">\n",
       "      <th></th>\n",
       "      <th>rpm</th>\n",
       "      <th>motor_voltage</th>\n",
       "      <th>motor_current</th>\n",
       "      <th>motor_temp</th>\n",
       "      <th>inlet_temp</th>\n",
       "    </tr>\n",
       "  </thead>\n",
       "  <tbody>\n",
       "    <tr>\n",
       "      <th>rpm</th>\n",
       "      <td>1.000000</td>\n",
       "      <td>-0.000008</td>\n",
       "      <td>-0.000011</td>\n",
       "      <td>-0.000011</td>\n",
       "      <td>-0.000011</td>\n",
       "    </tr>\n",
       "    <tr>\n",
       "      <th>motor_voltage</th>\n",
       "      <td>-0.000008</td>\n",
       "      <td>1.000000</td>\n",
       "      <td>-0.000008</td>\n",
       "      <td>-0.000008</td>\n",
       "      <td>-0.000008</td>\n",
       "    </tr>\n",
       "    <tr>\n",
       "      <th>motor_current</th>\n",
       "      <td>-0.000011</td>\n",
       "      <td>-0.000008</td>\n",
       "      <td>1.000000</td>\n",
       "      <td>-0.000011</td>\n",
       "      <td>-0.000011</td>\n",
       "    </tr>\n",
       "    <tr>\n",
       "      <th>motor_temp</th>\n",
       "      <td>-0.000011</td>\n",
       "      <td>-0.000008</td>\n",
       "      <td>-0.000011</td>\n",
       "      <td>1.000000</td>\n",
       "      <td>-0.000011</td>\n",
       "    </tr>\n",
       "    <tr>\n",
       "      <th>inlet_temp</th>\n",
       "      <td>-0.000011</td>\n",
       "      <td>-0.000008</td>\n",
       "      <td>-0.000011</td>\n",
       "      <td>-0.000011</td>\n",
       "      <td>1.000000</td>\n",
       "    </tr>\n",
       "  </tbody>\n",
       "</table>\n",
       "</div>"
      ],
      "text/plain": [
       "                    rpm  motor_voltage  motor_current  motor_temp  inlet_temp\n",
       "rpm            1.000000      -0.000008      -0.000011   -0.000011   -0.000011\n",
       "motor_voltage -0.000008       1.000000      -0.000008   -0.000008   -0.000008\n",
       "motor_current -0.000011      -0.000008       1.000000   -0.000011   -0.000011\n",
       "motor_temp    -0.000011      -0.000008      -0.000011    1.000000   -0.000011\n",
       "inlet_temp    -0.000011      -0.000008      -0.000011   -0.000011    1.000000"
      ]
     },
     "execution_count": 410,
     "metadata": {},
     "output_type": "execute_result"
    }
   ],
   "source": [
    "# # from sklearn.preprocessing import  MinMaxScaler\n",
    "\n",
    "# # scaler = MinMaxScaler()\n",
    "# # rms = sensors[0].rms\n",
    "# # rms[rms.columns] = scaler.fit_transform(rms[rms.columns])\n",
    "# import seaborn as sns\n",
    "\n",
    "# sns.set(style=\"white\")\n",
    "# f, ax = plt.subplots(figsize=(9, 6))\n",
    "# sns.heatmap(sensors[0].rms, annot=True, fmt=\"d\", linewidths=.5, ax=ax)\n",
    "\n",
    "\n",
    "# # sns.heatmap(sensors[0].rms.corr(), mask=mask, cmap=cmap, vmax=.3, center=0,\n",
    "# #             square=True, linewidths=.5, cbar_kws={\"shrink\": .5})\n",
    "\n",
    "sensors[0].rms.corr()"
   ]
  },
  {
   "cell_type": "code",
   "execution_count": null,
   "metadata": {},
   "outputs": [],
   "source": []
  },
  {
   "cell_type": "code",
   "execution_count": 417,
   "metadata": {},
   "outputs": [
    {
     "name": "stderr",
     "output_type": "stream",
     "text": [
      "UsageError: Line magic function `%R` not found.\n"
     ]
    }
   ],
   "source": [
    "%R install.packages(\"OIsurv\")"
   ]
  },
  {
   "cell_type": "code",
   "execution_count": 402,
   "metadata": {},
   "outputs": [
    {
     "data": {
      "text/html": [
       "<iframe id=\"igraph\" scrolling=\"no\" style=\"border:none;\" seamless=\"seamless\" src=\"https://plot.ly/~kempegowda.a/14.embed\" height=\"525px\" width=\"100%\"></iframe>"
      ],
      "text/plain": [
       "<chart_studio.tools.PlotlyDisplay object>"
      ]
     },
     "execution_count": 402,
     "metadata": {},
     "output_type": "execute_result"
    }
   ],
   "source": [
    "trace1 = go.Scatter3d(\n",
    "    x=sensors[1].rms['rpm'],\n",
    "    y=sensors[1].rms['motor_voltage'],\n",
    "    z=sensors[1].rms['motor_current'],\n",
    "    mode='markers',\n",
    "    marker=dict(\n",
    "        size=12,\n",
    "#         color='#17BECF',                # set color to an array/list of desired values\n",
    "        colorscale='Viridis',   # choose a colorscale\n",
    "        opacity=0.8\n",
    "    )\n",
    ")\n",
    "\n",
    "data = [trace1]\n",
    "layout = go.Layout(\n",
    "    margin=dict(\n",
    "        l=0,\n",
    "        r=0,\n",
    "        b=0,\n",
    "        t=0\n",
    "    )\n",
    ")\n",
    "fig = go.Figure(data=data, layout=layout)\n",
    "py.iplot(fig, filename='3d-scatter-colorscale')"
   ]
  },
  {
   "cell_type": "code",
   "execution_count": 431,
   "metadata": {},
   "outputs": [],
   "source": [
    "from lifelines import KaplanMeierFitter\n",
    "kmf = KaplanMeierFitter()\n"
   ]
  },
  {
   "cell_type": "markdown",
   "metadata": {},
   "source": [
    "### ARIMA Approach"
   ]
  },
  {
   "cell_type": "code",
   "execution_count": 23,
   "metadata": {},
   "outputs": [],
   "source": [
    "from statsmodels.tsa.arima_model import ARIMA"
   ]
  },
  {
   "cell_type": "code",
   "execution_count": 25,
   "metadata": {},
   "outputs": [
    {
     "ename": "TypeError",
     "evalue": "__new__() missing 1 required positional argument: 'order'",
     "output_type": "error",
     "traceback": [
      "\u001b[0;31m---------------------------------------------------------------------------\u001b[0m",
      "\u001b[0;31mTypeError\u001b[0m                                 Traceback (most recent call last)",
      "\u001b[0;32m<ipython-input-25-6915a882c4f1>\u001b[0m in \u001b[0;36m<module>\u001b[0;34m\u001b[0m\n\u001b[0;32m----> 1\u001b[0;31m \u001b[0mmodel\u001b[0m \u001b[0;34m=\u001b[0m \u001b[0mARIMA\u001b[0m\u001b[0;34m(\u001b[0m\u001b[0mrms\u001b[0m\u001b[0;34m)\u001b[0m\u001b[0;34m\u001b[0m\u001b[0;34m\u001b[0m\u001b[0m\n\u001b[0m\u001b[1;32m      2\u001b[0m \u001b[0mmodel_fit\u001b[0m \u001b[0;34m=\u001b[0m \u001b[0mmodel\u001b[0m\u001b[0;34m.\u001b[0m\u001b[0mfit\u001b[0m\u001b[0;34m(\u001b[0m\u001b[0mdisp\u001b[0m\u001b[0;34m=\u001b[0m\u001b[0;36m0\u001b[0m\u001b[0;34m)\u001b[0m\u001b[0;34m\u001b[0m\u001b[0;34m\u001b[0m\u001b[0m\n\u001b[1;32m      3\u001b[0m \u001b[0mprint\u001b[0m\u001b[0;34m(\u001b[0m\u001b[0mmodel_fit\u001b[0m\u001b[0;34m.\u001b[0m\u001b[0msummary\u001b[0m\u001b[0;34m(\u001b[0m\u001b[0;34m)\u001b[0m\u001b[0;34m)\u001b[0m\u001b[0;34m\u001b[0m\u001b[0;34m\u001b[0m\u001b[0m\n\u001b[1;32m      4\u001b[0m \u001b[0;31m# plot residual errors\u001b[0m\u001b[0;34m\u001b[0m\u001b[0;34m\u001b[0m\u001b[0;34m\u001b[0m\u001b[0m\n\u001b[1;32m      5\u001b[0m \u001b[0mresiduals\u001b[0m \u001b[0;34m=\u001b[0m \u001b[0mDataFrame\u001b[0m\u001b[0;34m(\u001b[0m\u001b[0mmodel_fit\u001b[0m\u001b[0;34m.\u001b[0m\u001b[0mresid\u001b[0m\u001b[0;34m)\u001b[0m\u001b[0;34m\u001b[0m\u001b[0;34m\u001b[0m\u001b[0m\n",
      "\u001b[0;31mTypeError\u001b[0m: __new__() missing 1 required positional argument: 'order'"
     ]
    }
   ],
   "source": [
    "model = ARIMA(rms)\n",
    "model_fit = model.fit(disp=0)\n",
    "print(model_fit.summary())\n",
    "# plot residual errors\n",
    "residuals = DataFrame(model_fit.resid)\n",
    "residuals.plot()\n",
    "pyplot.show()\n",
    "residuals.plot(kind='kde')\n",
    "pyplot.show()\n",
    "print(residuals.describe())"
   ]
  },
  {
   "cell_type": "code",
   "execution_count": 26,
   "metadata": {},
   "outputs": [],
   "source": [
    "?ARIMA"
   ]
  },
  {
   "cell_type": "code",
   "execution_count": 27,
   "metadata": {},
   "outputs": [
    {
     "name": "stdout",
     "output_type": "stream",
     "text": [
      "Best ARIMANone MSE=inf\n"
     ]
    }
   ],
   "source": [
    "import warnings\n",
    "from pandas import read_csv\n",
    "from pandas import datetime\n",
    "from statsmodels.tsa.arima_model import ARIMA\n",
    "from sklearn.metrics import mean_squared_error\n",
    "\n",
    "# evaluate an ARIMA model for a given order (p,d,q)\n",
    "def evaluate_arima_model(X, arima_order):\n",
    "    # prepare training dataset\n",
    "    train_size = int(len(X) * 0.66)\n",
    "    train, test = X[0:train_size], X[train_size:]\n",
    "    history = [x for x in train]\n",
    "    # make predictions\n",
    "    predictions = list()\n",
    "    for t in range(len(test)):\n",
    "        model = ARIMA(history, order=arima_order)\n",
    "        model_fit = model.fit(disp=0)\n",
    "        yhat = model_fit.forecast()[0]\n",
    "        predictions.append(yhat)\n",
    "        history.append(test[t])\n",
    "    # calculate out of sample error\n",
    "    error = mean_squared_error(test, predictions)\n",
    "    return error\n",
    "\n",
    "# evaluate combinations of p, d and q values for an ARIMA model\n",
    "def evaluate_models(dataset, p_values, d_values, q_values):\n",
    "    dataset = dataset.astype('float32')\n",
    "    best_score, best_cfg = float(\"inf\"), None\n",
    "    for p in p_values:\n",
    "        for d in d_values:\n",
    "            for q in q_values:\n",
    "                order = (p,d,q)\n",
    "                try:\n",
    "                    mse = evaluate_arima_model(dataset, order)\n",
    "                    if mse < best_score:\n",
    "                        best_score, best_cfg = mse, order\n",
    "                    print('ARIMA%s MSE=%.3f' % (order,mse))\n",
    "                except:\n",
    "                    continue\n",
    "    print('Best ARIMA%s MSE=%.3f' % (best_cfg, best_score))\n",
    "\n",
    "# load dataset\n",
    "\n",
    "# evaluate parameters\n",
    "p_values = [0, 1, 2, 4, 6, 8, 10]\n",
    "d_values = range(0, 3)\n",
    "q_values = range(0, 3)\n",
    "warnings.filterwarnings(\"ignore\")\n",
    "evaluate_models(series.values, p_values, d_values, q_values)"
   ]
  },
  {
   "cell_type": "code",
   "execution_count": null,
   "metadata": {},
   "outputs": [],
   "source": []
  }
 ],
 "metadata": {
  "kernelspec": {
   "display_name": "Python 3",
   "language": "python",
   "name": "python3"
  },
  "language_info": {
   "codemirror_mode": {
    "name": "ipython",
    "version": 3
   },
   "file_extension": ".py",
   "mimetype": "text/x-python",
   "name": "python",
   "nbconvert_exporter": "python",
   "pygments_lexer": "ipython3",
   "version": "3.6.8"
  }
 },
 "nbformat": 4,
 "nbformat_minor": 2
}
